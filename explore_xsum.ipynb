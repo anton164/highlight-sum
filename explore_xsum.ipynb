{
 "cells": [
  {
   "cell_type": "code",
   "execution_count": 1,
   "metadata": {},
   "outputs": [],
   "source": [
    "from sumtool.storage import get_summaries\n",
    "\n",
    "xsum_test = get_summaries(\"xsum\", \"gold\")"
   ]
  },
  {
   "cell_type": "code",
   "execution_count": 8,
   "metadata": {},
   "outputs": [
    {
     "data": {
      "text/plain": [
       "3745"
      ]
     },
     "execution_count": 8,
     "metadata": {},
     "output_type": "execute_result"
    }
   ],
   "source": [
    "removed = [\n",
    "    x for id, x in \n",
    "    xsum_test.items() if len(x[\"metadata\"][\"supported_summary_sentences\"]) == 0\n",
    "]\n",
    "\n",
    "len(removed)"
   ]
  },
  {
   "cell_type": "code",
   "execution_count": 13,
   "metadata": {},
   "outputs": [],
   "source": []
  },
  {
   "cell_type": "code",
   "execution_count": 19,
   "metadata": {},
   "outputs": [
    {
     "name": "stdout",
     "output_type": "stream",
     "text": [
      "summary Police are investigating the death of a 64-year-old man who died after an industrial incident in Grantham.\n",
      "source Officers believe the local man, who was working at Fruehauf on Houghton Road, fell from a cherry picker at about 13:45 GMT on Thursday.\n",
      "Lincolnshire Police said it was carrying out a joint inquiry with the Health and Safety Executive.\n",
      "The company was cooperating fully with the investigation, the force added.\n",
      "\n",
      "summary Nearly 700 recruits have returned to Kenya after quitting militant groups, a report by the International Organization for Migration (IOM) says.\n",
      "source The report warns that a failure to reintegrate returnees may lead to further radicalisation.\n",
      "Somalia's Islamist al-Shabab militants are believed to be recruiting heavily in neighbouring north-eastern Kenya.\n",
      "Kenya has seen a series of militant attacks with one at a university earlier this year killed 148 people.\n",
      "Although the report does not mention where the returnees came from, Deputy Secretary General of the Supreme Council of Kenya Muslims (Supkem) Hassan Ole Nadu has confirmed to the BBC that they were fighting for al-Shabab.\n",
      "The 36-page report was compiled by the IOM, Supkem and the Kenya's interior ministry.\n",
      "Researchers found that although most adults joined the group voluntarily, nearly a third of children interviewed said they were forced to enlist.\n",
      "The return of the youth, the report says, provides both \"opportunities and threats for and to Kenyans\".\n",
      "\"On the one hand, they present an opportunity to counter the radicalising ideologies and recruitment strategies of armed groups,\" the report says.\n",
      "\"On the other, the response of the security forces is widely perceived to be promoting further radicalisation as the returnees themselves believe that they are unsafe and have limited reintegration options.\"\n",
      "Security in the country was identified by participants as the main obstacle to their successful reintegration in the country.\n",
      "A total of 185 respondents were interviewed, representing nearly 30% of the estimated total of 684 returnees in the country. The majority were between 18 and 34 years old.\n",
      "\n",
      "summary Part of Colwyn Bay pier is to be dismantled after it collapsed into the sea, Conwy council has decided.\n",
      "source The cabinet considered an urgent report on Tuesday and voted to remove the section from the pavilion to the seaward end.\n",
      "The report said because of the risk of further collapse, the council could not wait for consent to begin work, as is usually the case for a listed building.\n",
      "Work on the \"dangerous\" structure is expected to take about three weeks.\n",
      "Parts of the Grade ll pier, which was already closed to the public when it gave way on 1 February, will be saved, catalogued and stored.\n",
      "Iwan Davies, chief executive of the council, told the meeting: \"The dangerous nature of the structure means dismantling it is dangerous.\"\n",
      "Up to Â£650,000 has been set aside for the work but councillors were told there was no way of knowing how much it would cost.\n",
      "\n"
     ]
    }
   ],
   "source": [
    "import random\n",
    "random.seed(42)\n",
    "sample = random.sample(removed, 3)\n",
    "for x in sample:\n",
    "    print(\"summary\", x[\"summary\"])\n",
    "    print(\"source\", x[\"metadata\"][\"source\"])\n",
    "    print()"
   ]
  }
 ],
 "metadata": {
  "interpreter": {
   "hash": "c65abe327be9d385da8d50ee90d19c969ffcfde132cb0f3c863fcc528012e2ee"
  },
  "kernelspec": {
   "display_name": "Python 3.8.13 ('highlight-sum')",
   "language": "python",
   "name": "python3"
  },
  "language_info": {
   "codemirror_mode": {
    "name": "ipython",
    "version": 3
   },
   "file_extension": ".py",
   "mimetype": "text/x-python",
   "name": "python",
   "nbconvert_exporter": "python",
   "pygments_lexer": "ipython3",
   "version": "3.8.13"
  },
  "orig_nbformat": 4
 },
 "nbformat": 4,
 "nbformat_minor": 2
}
